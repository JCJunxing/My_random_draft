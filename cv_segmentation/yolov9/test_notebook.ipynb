{
 "cells": [
  {
   "cell_type": "markdown",
   "metadata": {},
   "source": [
    "Install the libraries"
   ]
  },
  {
   "cell_type": "code",
   "execution_count": null,
   "metadata": {},
   "outputs": [],
   "source": [
    "!pip install -r requirements.txt"
   ]
  },
  {
   "cell_type": "markdown",
   "metadata": {},
   "source": [
    "Install torch"
   ]
  },
  {
   "cell_type": "code",
   "execution_count": 15,
   "metadata": {},
   "outputs": [
    {
     "name": "stdout",
     "output_type": "stream",
     "text": [
      "Found existing installation: torch 2.3.0\n",
      "Uninstalling torch-2.3.0:\n",
      "  Successfully uninstalled torch-2.3.0\n"
     ]
    }
   ],
   "source": [
    "!pip uninstall torch -y"
   ]
  },
  {
   "cell_type": "code",
   "execution_count": 16,
   "metadata": {},
   "outputs": [
    {
     "name": "stdout",
     "output_type": "stream",
     "text": [
      "Looking in indexes: https://download.pytorch.org/whl/cu118\n",
      "Requirement already satisfied: torch==2.2.1 in c:\\users\\yxzhh\\anaconda3\\envs\\yolov9_0528\\lib\\site-packages (2.2.1+cu118)\n",
      "Collecting torchvision==0.17.1\n",
      "  Using cached https://download.pytorch.org/whl/cu118/torchvision-0.17.1%2Bcu118-cp312-cp312-win_amd64.whl (4.9 MB)\n",
      "Requirement already satisfied: torchaudio==2.2.1 in c:\\users\\yxzhh\\anaconda3\\envs\\yolov9_0528\\lib\\site-packages (2.2.1+cu118)\n",
      "Requirement already satisfied: filelock in c:\\users\\yxzhh\\anaconda3\\envs\\yolov9_0528\\lib\\site-packages (from torch==2.2.1) (3.14.0)\n",
      "Requirement already satisfied: typing-extensions>=4.8.0 in c:\\users\\yxzhh\\anaconda3\\envs\\yolov9_0528\\lib\\site-packages (from torch==2.2.1) (4.11.0)\n",
      "Requirement already satisfied: sympy in c:\\users\\yxzhh\\anaconda3\\envs\\yolov9_0528\\lib\\site-packages (from torch==2.2.1) (1.12)\n",
      "Requirement already satisfied: networkx in c:\\users\\yxzhh\\anaconda3\\envs\\yolov9_0528\\lib\\site-packages (from torch==2.2.1) (3.3)\n",
      "Requirement already satisfied: jinja2 in c:\\users\\yxzhh\\anaconda3\\envs\\yolov9_0528\\lib\\site-packages (from torch==2.2.1) (3.1.4)\n",
      "Requirement already satisfied: fsspec in c:\\users\\yxzhh\\anaconda3\\envs\\yolov9_0528\\lib\\site-packages (from torch==2.2.1) (2024.5.0)\n",
      "Requirement already satisfied: numpy in c:\\users\\yxzhh\\anaconda3\\envs\\yolov9_0528\\lib\\site-packages (from torchvision==0.17.1) (1.26.4)\n",
      "Requirement already satisfied: pillow!=8.3.*,>=5.3.0 in c:\\users\\yxzhh\\anaconda3\\envs\\yolov9_0528\\lib\\site-packages (from torchvision==0.17.1) (10.3.0)\n",
      "Requirement already satisfied: MarkupSafe>=2.0 in c:\\users\\yxzhh\\anaconda3\\envs\\yolov9_0528\\lib\\site-packages (from jinja2->torch==2.2.1) (2.1.5)\n",
      "Requirement already satisfied: mpmath>=0.19 in c:\\users\\yxzhh\\anaconda3\\envs\\yolov9_0528\\lib\\site-packages (from sympy->torch==2.2.1) (1.3.0)\n",
      "Installing collected packages: torchvision\n",
      "  Attempting uninstall: torchvision\n",
      "    Found existing installation: torchvision 0.18.0\n",
      "    Uninstalling torchvision-0.18.0:\n",
      "      Successfully uninstalled torchvision-0.18.0\n",
      "Successfully installed torchvision-0.17.1+cu118\n"
     ]
    }
   ],
   "source": [
    "!pip install torch==2.2.1 torchvision==0.17.1 torchaudio==2.2.1 --index-url https://download.pytorch.org/whl/cu118"
   ]
  },
  {
   "cell_type": "markdown",
   "metadata": {},
   "source": [
    "Check GPU"
   ]
  },
  {
   "cell_type": "code",
   "execution_count": 1,
   "metadata": {},
   "outputs": [
    {
     "data": {
      "text/plain": [
       "'2.2.1+cu118'"
      ]
     },
     "execution_count": 1,
     "metadata": {},
     "output_type": "execute_result"
    }
   ],
   "source": [
    "import torch\n",
    "torch.__version__\n"
   ]
  },
  {
   "cell_type": "code",
   "execution_count": null,
   "metadata": {},
   "outputs": [],
   "source": [
    "torch.cuda.device_count()\n"
   ]
  },
  {
   "cell_type": "code",
   "execution_count": null,
   "metadata": {},
   "outputs": [],
   "source": [
    "!nvcc --version"
   ]
  },
  {
   "cell_type": "markdown",
   "metadata": {},
   "source": [
    "Check the library list"
   ]
  },
  {
   "cell_type": "code",
   "execution_count": 18,
   "metadata": {},
   "outputs": [
    {
     "name": "stdout",
     "output_type": "stream",
     "text": [
      "Package                 Version\n",
      "----------------------- --------------------\n",
      "absl-py                 2.1.0\n",
      "albumentations          1.4.7\n",
      "annotated-types         0.7.0\n",
      "asttokens               2.4.1\n",
      "certifi                 2024.2.2\n",
      "charset-normalizer      3.3.2\n",
      "colorama                0.4.6\n",
      "comm                    0.2.2\n",
      "contourpy               1.2.1\n",
      "cycler                  0.12.1\n",
      "Cython                  3.0.10\n",
      "debugpy                 1.6.7\n",
      "decorator               5.1.1\n",
      "exceptiongroup          1.2.0\n",
      "executing               2.0.1\n",
      "filelock                3.14.0\n",
      "fonttools               4.52.4\n",
      "fsspec                  2024.5.0\n",
      "gitdb                   4.0.11\n",
      "GitPython               3.1.43\n",
      "grpcio                  1.64.0\n",
      "idna                    3.7\n",
      "imageio                 2.34.1\n",
      "importlib_metadata      7.1.0\n",
      "intel-openmp            2021.4.0\n",
      "ipykernel               6.29.3\n",
      "ipython                 8.24.0\n",
      "jedi                    0.19.1\n",
      "Jinja2                  3.1.4\n",
      "joblib                  1.4.2\n",
      "jupyter_client          8.6.2\n",
      "jupyter_core            5.5.0\n",
      "kiwisolver              1.4.5\n",
      "lazy_loader             0.4\n",
      "Markdown                3.6\n",
      "MarkupSafe              2.1.5\n",
      "matplotlib              3.9.0\n",
      "matplotlib-inline       0.1.7\n",
      "mkl                     2021.4.0\n",
      "mpmath                  1.3.0\n",
      "nest_asyncio            1.6.0\n",
      "networkx                3.3\n",
      "numpy                   1.26.4\n",
      "opencv-python           4.9.0.80\n",
      "opencv-python-headless  4.9.0.80\n",
      "packaging               24.0\n",
      "pandas                  2.2.2\n",
      "parso                   0.8.4\n",
      "pickleshare             0.7.5\n",
      "pillow                  10.3.0\n",
      "pip                     24.0\n",
      "platformdirs            4.2.2\n",
      "prompt-toolkit          3.0.42\n",
      "protobuf                5.27.0\n",
      "psutil                  5.9.0\n",
      "pure-eval               0.2.2\n",
      "pycocotools             2.0.7\n",
      "pydantic                2.7.2\n",
      "pydantic_core           2.18.3\n",
      "Pygments                2.18.0\n",
      "pyparsing               3.1.2\n",
      "python-dateutil         2.9.0\n",
      "pytz                    2024.1\n",
      "pywin32                 305.1\n",
      "PyYAML                  6.0.1\n",
      "pyzmq                   25.1.2\n",
      "requests                2.32.2\n",
      "scikit-image            0.23.2\n",
      "scikit-learn            1.5.0\n",
      "scipy                   1.13.1\n",
      "seaborn                 0.13.2\n",
      "setuptools              69.5.1\n",
      "six                     1.16.0\n",
      "smmap                   5.0.1\n",
      "stack-data              0.6.2\n",
      "sympy                   1.12\n",
      "tbb                     2021.12.0\n",
      "tensorboard             2.16.2\n",
      "tensorboard-data-server 0.7.2\n",
      "thop                    0.1.1.post2209072238\n",
      "threadpoolctl           3.5.0\n",
      "tifffile                2024.5.22\n",
      "torch                   2.2.1+cu118\n",
      "torchaudio              2.2.1+cu118\n",
      "torchvision             0.17.1+cu118\n",
      "tornado                 6.3.3\n",
      "tqdm                    4.66.4\n",
      "traitlets               5.14.3\n",
      "typing_extensions       4.11.0\n",
      "tzdata                  2024.1\n",
      "urllib3                 2.2.1\n",
      "wcwidth                 0.2.13\n",
      "Werkzeug                3.0.3\n",
      "wheel                   0.43.0\n",
      "zipp                    3.17.0\n"
     ]
    }
   ],
   "source": [
    "!pip list"
   ]
  },
  {
   "cell_type": "code",
   "execution_count": null,
   "metadata": {},
   "outputs": [],
   "source": [
    "!pip install albumentations==1.4.8"
   ]
  },
  {
   "cell_type": "markdown",
   "metadata": {},
   "source": [
    "need torch torchvision torchaudio with cu118\n",
    "\n",
    "----"
   ]
  },
  {
   "cell_type": "markdown",
   "metadata": {},
   "source": [
    "add `proto = proto[2]` after \n",
    "` # Inference\n",
    "        with dt[1]:\n",
    "            visualize = increment_path(save_dir / Path(path).stem, mkdir=True) if visualize else False\n",
    "            pred, proto = model(im, augment=augment, visualize=visualize)[:2]`\n",
    "\n",
    "in `predict.py`\n",
    "\n",
    "\n",
    "download and add gelan-c-seg.pt from [link](https://github.com/WongKinYiu/yolov9)"
   ]
  },
  {
   "cell_type": "code",
   "execution_count": 4,
   "metadata": {},
   "outputs": [
    {
     "name": "stderr",
     "output_type": "stream",
     "text": [
      "\u001b[34m\u001b[1msegment\\predict: \u001b[0mweights=['gelan-c-seg.pt'], source=test_img.jpg, data=data\\coco128.yaml, imgsz=[640, 640], conf_thres=0.25, iou_thres=0.45, max_det=1000, device=0, view_img=False, save_txt=False, save_conf=False, save_crop=False, nosave=False, classes=None, agnostic_nms=False, augment=False, visualize=False, update=False, project=runs\\predict-seg, name=exp, exist_ok=False, line_thickness=3, hide_labels=False, hide_conf=False, half=False, dnn=False, vid_stride=1, retina_masks=False\n",
      "YOLO  2024-5-28 Python-3.12.3 torch-2.2.1+cu118 CUDA:0 (NVIDIA GeForce RTX 3070, 8191MiB)\n",
      "\n",
      "Fusing layers... \n",
      "Model summary: 414 layers, 27423808 parameters, 0 gradients, 144.6 GFLOPs\n",
      "image 1/1 C:\\Users\\yxzhh\\Desktop\\Machine_Learning\\YOLOV9\\test_img.jpg: 640x640 1 horse, 21.4ms\n",
      "Speed: 0.0ms pre-process, 21.4ms inference, 1.0ms NMS per image at shape (1, 3, 640, 640)\n",
      "Results saved to \u001b[1mruns\\predict-seg\\exp20\u001b[0m\n"
     ]
    }
   ],
   "source": [
    "!python segment/predict.py --source test_img.jpg --img 640 --device 0 --weights gelan-c-seg.pt"
   ]
  },
  {
   "cell_type": "markdown",
   "metadata": {},
   "source": [
    "Train customed dataset\n",
    "\n",
    "prepare the dataset online in website like roboflow\n",
    "prepare:\n",
    "dataset\n",
    "`data.yaml`data file\n",
    "`glen-c-seg.yaml`config file\n",
    "mention the location of the file below\n",
    "\n",
    "--batch default 16, set to 8 if GPU memory small, 32 if it's big "
   ]
  },
  {
   "cell_type": "code",
   "execution_count": 1,
   "metadata": {},
   "outputs": [
    {
     "name": "stdout",
     "output_type": "stream",
     "text": [
      "^C\n"
     ]
    }
   ],
   "source": [
    "!python segment/train.py --workers 8 --device 0 --batch 8 --data data_trail_240528.yaml --img 640 --cfg models/segment/gelan-c-seg-custom-trail_240528.yaml --weights gelan-c-seg.pt --name gelan-c-seg --hyp hyp.scratch-high.yaml --no-overlap --epochs 10 --close-mosaic 10"
   ]
  },
  {
   "cell_type": "markdown",
   "metadata": {},
   "source": [
    "Inference with the data, \n",
    "1. change the `--source` for the image folder or image.\n",
    "2. change the  `--weights` for the weights.\n",
    "3. add `--save-txt` to save the output of prediction as a txt file "
   ]
  },
  {
   "cell_type": "code",
   "execution_count": 2,
   "metadata": {},
   "outputs": [
    {
     "name": "stderr",
     "output_type": "stream",
     "text": [
      "\u001b[34m\u001b[1msegment\\predict: \u001b[0mweights=['runs/train-seg/gelan-c-seg10/weights/best.pt'], source=../custom_dataset/test/images/test_4.jpg, data=data\\coco128.yaml, imgsz=[640, 640], conf_thres=0.25, iou_thres=0.45, max_det=1000, device=0, view_img=False, save_txt=True, save_conf=False, save_crop=False, nosave=False, classes=None, agnostic_nms=False, augment=False, visualize=False, update=False, project=runs\\predict-seg, name=exp, exist_ok=False, line_thickness=3, hide_labels=False, hide_conf=False, half=False, dnn=False, vid_stride=1, retina_masks=False\n",
      "YOLO  2024-5-28 Python-3.12.3 torch-2.2.1+cu118 CUDA:0 (NVIDIA GeForce RTX 3070, 8191MiB)\n",
      "\n",
      "Fusing layers... \n",
      "gelan-c-seg-custom-trail_240528 summary: 414 layers, 27366754 parameters, 0 gradients, 144.2 GFLOPs\n",
      "image 1/1 C:\\Users\\yxzhh\\Desktop\\Machine_Learning\\YOLO\\YOLOV9\\custom_dataset\\test\\images\\test_4.jpg: 640x384 1 bat, 1 gloves, 1 helmet, 1 pads, 1 stumps, 155.7ms\n",
      "Speed: 0.0ms pre-process, 155.7ms inference, 2.0ms NMS per image at shape (1, 3, 640, 640)\n",
      "Results saved to \u001b[1mruns\\predict-seg\\exp34\u001b[0m\n",
      "1 labels saved to runs\\predict-seg\\exp34\\labels\n"
     ]
    }
   ],
   "source": [
    "!python segment/predict.py --source ../custom_dataset/test/images/test_4.jpg --img 640 --device 0 --weights runs/train-seg/gelan-c-seg10/weights/best.pt --save-txt"
   ]
  }
 ],
 "metadata": {
  "kernelspec": {
   "display_name": "yolov9_0528",
   "language": "python",
   "name": "python3"
  },
  "language_info": {
   "codemirror_mode": {
    "name": "ipython",
    "version": 3
   },
   "file_extension": ".py",
   "mimetype": "text/x-python",
   "name": "python",
   "nbconvert_exporter": "python",
   "pygments_lexer": "ipython3",
   "version": "3.12.3"
  }
 },
 "nbformat": 4,
 "nbformat_minor": 2
}
